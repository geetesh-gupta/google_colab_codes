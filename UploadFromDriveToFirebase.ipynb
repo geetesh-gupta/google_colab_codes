{
  "nbformat": 4,
  "nbformat_minor": 0,
  "metadata": {
    "colab": {
      "name": "UploadFromDriveToFirebase.ipynb",
      "provenance": [],
      "collapsed_sections": [],
      "include_colab_link": true
    },
    "kernelspec": {
      "name": "python3",
      "display_name": "Python 3"
    }
  },
  "cells": [
    {
      "cell_type": "markdown",
      "metadata": {
        "id": "view-in-github",
        "colab_type": "text"
      },
      "source": [
        "<a href=\"https://colab.research.google.com/github/geetesh-gupta/google_colab_codes/blob/master/UploadFromDriveToFirebase.ipynb\" target=\"_parent\"><img src=\"https://colab.research.google.com/assets/colab-badge.svg\" alt=\"Open In Colab\"/></a>"
      ]
    },
    {
      "cell_type": "code",
      "metadata": {
        "id": "zTf-T6IruYa6",
        "colab_type": "code",
        "outputId": "b54746f6-0467-44d7-a466-a6d11fbb9d30",
        "colab": {
          "base_uri": "https://localhost:8080/",
          "height": 121
        }
      },
      "source": [
        "# Authenticate Google Drive account\n",
        "from google.colab import drive\n",
        "drive.mount(\"/content/drive\")"
      ],
      "execution_count": 0,
      "outputs": [
        {
          "output_type": "stream",
          "text": [
            "Go to this URL in a browser: https://accounts.google.com/o/oauth2/auth?client_id=947318989803-6bn6qk8qdgf4n4g3pfee6491hc0brc4i.apps.googleusercontent.com&redirect_uri=urn%3aietf%3awg%3aoauth%3a2.0%3aoob&response_type=code&scope=email%20https%3a%2f%2fwww.googleapis.com%2fauth%2fdocs.test%20https%3a%2f%2fwww.googleapis.com%2fauth%2fdrive%20https%3a%2f%2fwww.googleapis.com%2fauth%2fdrive.photos.readonly%20https%3a%2f%2fwww.googleapis.com%2fauth%2fpeopleapi.readonly\n",
            "\n",
            "Enter your authorization code:\n",
            "··········\n",
            "Mounted at /content/drive\n"
          ],
          "name": "stdout"
        }
      ]
    },
    {
      "cell_type": "code",
      "metadata": {
        "id": "ETrUIr3wQFDS",
        "colab_type": "code",
        "colab": {}
      },
      "source": [
        "# Authenticate Google Colaboratory\n",
        "from google.colab import auth\n",
        "auth.authenticate_user()"
      ],
      "execution_count": 0,
      "outputs": []
    },
    {
      "cell_type": "code",
      "metadata": {
        "id": "MqpC2mHVQKIk",
        "colab_type": "code",
        "outputId": "f87c0d31-883b-4bf5-b778-2e36f75def8c",
        "colab": {
          "base_uri": "https://localhost:8080/",
          "height": 118
        }
      },
      "source": [
        "# Firebase Project ID\n",
        "project_id = 'wordpress-330de'\n",
        "!gcloud config set project {project_id}"
      ],
      "execution_count": 0,
      "outputs": [
        {
          "output_type": "stream",
          "text": [
            "Updated property [core/project].\n",
            "\n",
            "\n",
            "To take a quick anonymous survey, run:\n",
            "  $ gcloud survey\n",
            "\n"
          ],
          "name": "stdout"
        }
      ]
    },
    {
      "cell_type": "code",
      "metadata": {
        "id": "AvhOQy8xqrQv",
        "colab_type": "code",
        "outputId": "aaa5df62-80cc-4c89-ce67-6b17104fcc5f",
        "colab": {
          "base_uri": "https://localhost:8080/",
          "height": 50
        }
      },
      "source": [
        "# List all the buckets in the project\n",
        "!gsutil ls"
      ],
      "execution_count": 0,
      "outputs": [
        {
          "output_type": "stream",
          "text": [
            "gs://staging.wordpress-330de.appspot.com/\n",
            "gs://wordpress-330de.appspot.com/\n"
          ],
          "name": "stdout"
        }
      ]
    },
    {
      "cell_type": "code",
      "metadata": {
        "id": "JBosuHynRA6L",
        "colab_type": "code",
        "colab": {}
      },
      "source": [
        "# Set the bucket to work with from the previous list\n",
        "# Remember to remove the gs:// part\n",
        "bucket_name = 'wordpress-330de.appspot.com'"
      ],
      "execution_count": 0,
      "outputs": []
    },
    {
      "cell_type": "code",
      "metadata": {
        "id": "N5Y6nl8yrC1W",
        "colab_type": "code",
        "colab": {}
      },
      "source": [
        "# Set the drive folder path\n",
        "drive_folder = '/content/drive/My Drive/Celeb Offer Videos/'"
      ],
      "execution_count": 0,
      "outputs": []
    },
    {
      "cell_type": "code",
      "metadata": {
        "id": "sLQDSsDrwkbd",
        "colab_type": "code",
        "colab": {}
      },
      "source": [
        "# Set the cloud folder path\n",
        "cloud_folder = '/celeb'\n",
        "# cloud_folder = '/celeb_images'\n",
        "\n",
        "# content type extension\n",
        "extension = '.mp4'\n",
        "# extension = '.jpg'"
      ],
      "execution_count": 0,
      "outputs": []
    },
    {
      "cell_type": "code",
      "metadata": {
        "id": "wS8gRfYhWLyh",
        "colab_type": "code",
        "colab": {}
      },
      "source": [
        "import os, re\n",
        "\n",
        "# Loop through the drive folders recursively\n",
        "for (rootDir, subDirs, files) in os.walk(drive_folder):\n",
        "  # Get the folder name\n",
        "  splitRootDirPath = rootDir.split('/')\n",
        "  dirfilename = splitRootDirPath[-1]\n",
        "\n",
        "  # A Fix for those who have extra subfolder named Offer Video. Uncomment only if needed\n",
        "  # if splitRootDirPath[-1] == \"Offer Video\":\n",
        "  #   dirfilename = splitRootDirPath[-2]\n",
        "    \n",
        "  # Get all the video paths \n",
        "  filepaths = []\n",
        "  for file in files:\n",
        "      if re.match('.*'+extension, file):\n",
        "          filepaths.append(file)\n",
        "  # print(filepaths)\n",
        "  \n",
        "  # Create filenames based on the folder name\n",
        "  filenames = []\n",
        "  if len(filepaths) > 1:\n",
        "      for i, file in enumerate(filepaths):\n",
        "          filenames.append(dirfilename.replace(' ', '_') + '_' + str(i+1))\n",
        "  elif len(filepaths) == 1:\n",
        "      filenames.append(dirfilename.replace(' ', '_'))\n",
        "  # print(filenames)\n",
        "\n",
        "  # Copy the files\n",
        "  for i, file in enumerate(filepaths):\n",
        "      filepath = '\"'+rootDir + '/' + file+'\"'\n",
        "      filename = '\"'+filenames[i]+extension+'\"'\n",
        "\n",
        "      already_present = !gsutil -q stat gs://{bucket_name}{cloud_folder}/{filename}\n",
        "      # Replace the \"/celeb\" part with whatever folder or path you want to use\n",
        "      if already_present == 1:\n",
        "        !gsutil -m cp -r {filepath} gs://{bucket_name}{cloud_folder}/{filename}\n",
        "      else:\n",
        "        print(filename + \" Already Present\")"
      ],
      "execution_count": 0,
      "outputs": []
    },
    {
      "cell_type": "code",
      "metadata": {
        "id": "EgmPYNOwmu2x",
        "colab_type": "code",
        "outputId": "2811d7f2-4180-4123-ad45-2a1eb4aef6be",
        "colab": {
          "base_uri": "https://localhost:8080/",
          "height": 70
        }
      },
      "source": [
        "# To transfer std out to local string variable\n",
        "from io import StringIO\n",
        "import sys\n",
        "\n",
        "old_stdout = sys.stdout\n",
        "result = StringIO()\n",
        "sys.stdout = result\n",
        "\n",
        "# Output the firebase folder filenames\n",
        "!gsutil ls gs://{bucket_name}{cloud_folder}/*{extension}\n",
        "\n",
        "sys.stdout = old_stdout\n",
        "\n",
        "result_string = result.getvalue()\n",
        "\n",
        "\n",
        "filenames = [path.split('/')[-1] for path in result_string.split('\\n')]\n",
        "print(filenames)\n",
        "\n",
        "# Base url to access the content\n",
        "base_url_prefix = \"https://firebasestorage.googleapis.com/v0/b/\"+bucket_name+\"/o\"+cloud_folder+\"%2F\"\n",
        "\n",
        "# May change with type of data\n",
        "base_url_suffix = \"?alt=media\"\n",
        "\n",
        "fileurls = [base_url_prefix + filename + base_url_suffix for filename in filenames]\n",
        "print(fileurls)\n"
      ],
      "execution_count": 0,
      "outputs": [
        {
          "output_type": "stream",
          "text": [
            "['Abhinav_1.mp4', 'Abhinav_2.mp4', 'Akbar_Sami_1.mp4', 'Akbar_Sami_2.mp4', 'Alam_Jasdeep.mp4', 'Amey_Wagh.mp4', 'Anirudh_Dave.mp4', 'Ashish_Dixit.mp4', 'Astad_Kale_1.mp4', 'Astad_Kale_2.mp4', 'Crishna_JK.mp4', 'DJ_Alex.mp4', 'Dhanashri_Kadgaokar.mp4', 'Dipoo_Srivastav.mp4', 'Gaurav_Chopra.mp4', 'Gavie_Chahal.mp4', 'Jennifer_Mistry.mp4', 'Jubair_Muhammed.mp4', 'Kenisha_Awasthi.mp4', 'Mahesh_Vinayakram.mp4', 'Monika_Dabade.mp4', 'Naveen_Pandit.mp4', 'Naveen_Pandita.mp4', 'Offer_Video_1.mp4', 'Offer_Video_2.mp4', 'Praveen_Tarde.mp4', 'Pravin tarde.mp4', 'Preetika_Rao.mp4', 'RJ_Nimi.mp4', 'RJ_Sana.mp4', 'RJ_Sanaa.mp4', 'RJ_Sumit.mp4', 'Ravi_Gupta.mp4', 'Sheena_Chawla_1.mp4', 'Sheena_Chawla_2.mp4', 'Sheena_Chawla_3.mp4', 'Sheena_Chawla_4.mp4', 'Siddharth.mp4', 'Suyash.mp4', 'Yashashri_Masurkar.mp4', '']\n",
            "['https://firebasestorage.googleapis.com/v0/b/wordpress-330de.appspot.com/o/celeb%2FAbhinav_1.mp4?alt=media', 'https://firebasestorage.googleapis.com/v0/b/wordpress-330de.appspot.com/o/celeb%2FAbhinav_2.mp4?alt=media', 'https://firebasestorage.googleapis.com/v0/b/wordpress-330de.appspot.com/o/celeb%2FAkbar_Sami_1.mp4?alt=media', 'https://firebasestorage.googleapis.com/v0/b/wordpress-330de.appspot.com/o/celeb%2FAkbar_Sami_2.mp4?alt=media', 'https://firebasestorage.googleapis.com/v0/b/wordpress-330de.appspot.com/o/celeb%2FAlam_Jasdeep.mp4?alt=media', 'https://firebasestorage.googleapis.com/v0/b/wordpress-330de.appspot.com/o/celeb%2FAmey_Wagh.mp4?alt=media', 'https://firebasestorage.googleapis.com/v0/b/wordpress-330de.appspot.com/o/celeb%2FAnirudh_Dave.mp4?alt=media', 'https://firebasestorage.googleapis.com/v0/b/wordpress-330de.appspot.com/o/celeb%2FAshish_Dixit.mp4?alt=media', 'https://firebasestorage.googleapis.com/v0/b/wordpress-330de.appspot.com/o/celeb%2FAstad_Kale_1.mp4?alt=media', 'https://firebasestorage.googleapis.com/v0/b/wordpress-330de.appspot.com/o/celeb%2FAstad_Kale_2.mp4?alt=media', 'https://firebasestorage.googleapis.com/v0/b/wordpress-330de.appspot.com/o/celeb%2FCrishna_JK.mp4?alt=media', 'https://firebasestorage.googleapis.com/v0/b/wordpress-330de.appspot.com/o/celeb%2FDJ_Alex.mp4?alt=media', 'https://firebasestorage.googleapis.com/v0/b/wordpress-330de.appspot.com/o/celeb%2FDhanashri_Kadgaokar.mp4?alt=media', 'https://firebasestorage.googleapis.com/v0/b/wordpress-330de.appspot.com/o/celeb%2FDipoo_Srivastav.mp4?alt=media', 'https://firebasestorage.googleapis.com/v0/b/wordpress-330de.appspot.com/o/celeb%2FGaurav_Chopra.mp4?alt=media', 'https://firebasestorage.googleapis.com/v0/b/wordpress-330de.appspot.com/o/celeb%2FGavie_Chahal.mp4?alt=media', 'https://firebasestorage.googleapis.com/v0/b/wordpress-330de.appspot.com/o/celeb%2FJennifer_Mistry.mp4?alt=media', 'https://firebasestorage.googleapis.com/v0/b/wordpress-330de.appspot.com/o/celeb%2FJubair_Muhammed.mp4?alt=media', 'https://firebasestorage.googleapis.com/v0/b/wordpress-330de.appspot.com/o/celeb%2FKenisha_Awasthi.mp4?alt=media', 'https://firebasestorage.googleapis.com/v0/b/wordpress-330de.appspot.com/o/celeb%2FMahesh_Vinayakram.mp4?alt=media', 'https://firebasestorage.googleapis.com/v0/b/wordpress-330de.appspot.com/o/celeb%2FMonika_Dabade.mp4?alt=media', 'https://firebasestorage.googleapis.com/v0/b/wordpress-330de.appspot.com/o/celeb%2FNaveen_Pandit.mp4?alt=media', 'https://firebasestorage.googleapis.com/v0/b/wordpress-330de.appspot.com/o/celeb%2FNaveen_Pandita.mp4?alt=media', 'https://firebasestorage.googleapis.com/v0/b/wordpress-330de.appspot.com/o/celeb%2FOffer_Video_1.mp4?alt=media', 'https://firebasestorage.googleapis.com/v0/b/wordpress-330de.appspot.com/o/celeb%2FOffer_Video_2.mp4?alt=media', 'https://firebasestorage.googleapis.com/v0/b/wordpress-330de.appspot.com/o/celeb%2FPraveen_Tarde.mp4?alt=media', 'https://firebasestorage.googleapis.com/v0/b/wordpress-330de.appspot.com/o/celeb%2FPravin tarde.mp4?alt=media', 'https://firebasestorage.googleapis.com/v0/b/wordpress-330de.appspot.com/o/celeb%2FPreetika_Rao.mp4?alt=media', 'https://firebasestorage.googleapis.com/v0/b/wordpress-330de.appspot.com/o/celeb%2FRJ_Nimi.mp4?alt=media', 'https://firebasestorage.googleapis.com/v0/b/wordpress-330de.appspot.com/o/celeb%2FRJ_Sana.mp4?alt=media', 'https://firebasestorage.googleapis.com/v0/b/wordpress-330de.appspot.com/o/celeb%2FRJ_Sanaa.mp4?alt=media', 'https://firebasestorage.googleapis.com/v0/b/wordpress-330de.appspot.com/o/celeb%2FRJ_Sumit.mp4?alt=media', 'https://firebasestorage.googleapis.com/v0/b/wordpress-330de.appspot.com/o/celeb%2FRavi_Gupta.mp4?alt=media', 'https://firebasestorage.googleapis.com/v0/b/wordpress-330de.appspot.com/o/celeb%2FSheena_Chawla_1.mp4?alt=media', 'https://firebasestorage.googleapis.com/v0/b/wordpress-330de.appspot.com/o/celeb%2FSheena_Chawla_2.mp4?alt=media', 'https://firebasestorage.googleapis.com/v0/b/wordpress-330de.appspot.com/o/celeb%2FSheena_Chawla_3.mp4?alt=media', 'https://firebasestorage.googleapis.com/v0/b/wordpress-330de.appspot.com/o/celeb%2FSheena_Chawla_4.mp4?alt=media', 'https://firebasestorage.googleapis.com/v0/b/wordpress-330de.appspot.com/o/celeb%2FSiddharth.mp4?alt=media', 'https://firebasestorage.googleapis.com/v0/b/wordpress-330de.appspot.com/o/celeb%2FSuyash.mp4?alt=media', 'https://firebasestorage.googleapis.com/v0/b/wordpress-330de.appspot.com/o/celeb%2FYashashri_Masurkar.mp4?alt=media', 'https://firebasestorage.googleapis.com/v0/b/wordpress-330de.appspot.com/o/celeb%2F?alt=media']\n"
          ],
          "name": "stdout"
        }
      ]
    },
    {
      "cell_type": "code",
      "metadata": {
        "id": "3w9sxRNRxOl4",
        "colab_type": "code",
        "colab": {}
      },
      "source": [
        "# Create spreadsheet\n",
        "import gspread\n",
        "from oauth2client.client import GoogleCredentials\n",
        "\n",
        "gc = gspread.authorize(GoogleCredentials.get_application_default()) \n",
        "\n",
        "sheet_name = 'Celeb_Videos_URLs'\n",
        "\n",
        "# Uncomment if sheet not present in the drive\n",
        "# gc.create(sheet_name)\n",
        "\n",
        "# Open the sheet\n",
        "worksheet = gc.open(sheet_name).get_worksheet(0)\n",
        "\n",
        "# First Row Headings\n",
        "# worksheet.append_row([\"Name\", \"URL\"])\n",
        "\n",
        "old_records = worksheet.get_all_values()\n",
        "old_records.pop(0)\n",
        "\n",
        "# Add row wise data\n",
        "for i, (filename, fileurl) in enumerate(zip(filenames, fileurls)):\n",
        "  if filename == \"\":\n",
        "    continue\n",
        "  file = [filename, fileurl]\n",
        "  if file not in old_records:\n",
        "    print(file)\n",
        "    worksheet.append_row([filename, fileurl])"
      ],
      "execution_count": 0,
      "outputs": []
    },
    {
      "cell_type": "code",
      "metadata": {
        "id": "yv0j5D5nI0TH",
        "colab_type": "code",
        "colab": {}
      },
      "source": [
        "!pip install gspread_formatting\n",
        "import gspread_formatting"
      ],
      "execution_count": 0,
      "outputs": []
    },
    {
      "cell_type": "code",
      "metadata": {
        "id": "lN8QhKw6JJCi",
        "colab_type": "code",
        "colab": {}
      },
      "source": [
        "# Sort Sheet \n",
        "from gspread_formatting import *\n",
        "rows = worksheet.get_all_values()\n",
        "rows.pop(0)\n",
        "rows_format = []\n",
        "for i, row in enumerate(rows):\n",
        "  try:\n",
        "    row_format = []\n",
        "    for j in range(len(row)):\n",
        "      cell_label = chr(ord('A')+j)+str(i+2)\n",
        "      row_format.append(get_effective_format(worksheet, cell_label))\n",
        "    rows_format.append(row_format)\n",
        "  except Exception:\n",
        "    continue\n",
        "    \n",
        "sorted_pairs = sorted(zip(rows, rows_format), key=lambda pair: pair[0][0])\n",
        "tuples = zip(*sorted_pairs)\n",
        "rows, rows_format = [list(tuple) for tuple in  tuples]\n",
        "\n",
        "# # gc.open(sheet_name).add_worksheet()\n",
        "# # # worksheet = gc.open(sheet_name).get_worksheet(2)\n",
        "for i, row in enumerate(rows):\n",
        "  for j in range(len(row)):\n",
        "    cell_label = chr(ord('A')+j)+str(i+2)\n",
        "    format_cell_range(worksheet, cell_label, rows_format[i][j])\n",
        "    worksheet.update_acell(cell_label, row[j])\n"
      ],
      "execution_count": 0,
      "outputs": []
    }
  ]
}